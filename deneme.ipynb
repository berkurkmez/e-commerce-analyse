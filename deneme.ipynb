{
 "cells": [
  {
   "cell_type": "code",
   "execution_count": 433,
   "metadata": {},
   "outputs": [],
   "source": [
    "from bs4 import BeautifulSoup as bts\n",
    "import requests\n",
    "import time,os\n",
    "from selenium import webdriver\n",
    "from selenium.webdriver.common.keys import Keys\n",
    "##import warnings warnings.filterwarnings (action='ignore')\n",
    "from selenium.webdriver.common.by import By"
   ]
  },
  {
   "cell_type": "code",
   "execution_count": 434,
   "metadata": {},
   "outputs": [],
   "source": [
    "chromedriver = \"/Users/berk/Documents/chromedriver/chromedriver\"\n",
    "os.environ[\"webdriver_chrome.driver\"] = chromedriver"
   ]
  },
  {
   "cell_type": "code",
   "execution_count": 435,
   "metadata": {},
   "outputs": [],
   "source": [
    "#bu kısım kodla alakası yok deneme\n",
    "#function for url html codes\n",
    "def getAndParseURL(url):\n",
    "    result = requests.get(url,headers={\"User-Agent\": \"Mozilla/5.0\"})\n",
    "    soup = bts(result.text, \"html.parser\")\n",
    "    return soup"
   ]
  },
  {
   "cell_type": "code",
   "execution_count": 436,
   "metadata": {},
   "outputs": [],
   "source": [
    "#search = 'https://www.petlebi.com/kopek-mamasi'\n",
    "search = 'https://www.petlebi.com/kopek-kapisi'\n",
    "#search = 'https://www.petlebi.com/kedi-urunleri/ferplast-swing-3-otomatik-kedi-ve-kopek-kapisi-22x5x25cm-kahverengi.html'\n",
    "soup = getAndParseURL(search)"
   ]
  },
  {
   "cell_type": "code",
   "execution_count": 490,
   "metadata": {},
   "outputs": [],
   "source": [
    "driver = webdriver.Chrome(chromedriver)\n",
    "driver.get(search)"
   ]
  },
  {
   "cell_type": "code",
   "execution_count": 438,
   "metadata": {},
   "outputs": [],
   "source": [
    "soup = bts(driver.page_source, \"html.parser\")"
   ]
  },
  {
   "cell_type": "code",
   "execution_count": 491,
   "metadata": {},
   "outputs": [],
   "source": [
    "product_URL = []\n",
    "product_name = []\n",
    "product_barcode = []\n",
    "product_price = []\n",
    "product_stock = []\n",
    "product_images = []\n",
    "description = []\n",
    "sku = []\n",
    "category = []\n",
    "product_ID = []\n",
    "brand = []"
   ]
  },
  {
   "cell_type": "code",
   "execution_count": 486,
   "metadata": {},
   "outputs": [
    {
     "data": {
      "text/plain": [
       "'AnasayfaKedi ÜrünleriKöpek KapısıFerplast'"
      ]
     },
     "execution_count": 486,
     "metadata": {},
     "output_type": "execute_result"
    }
   ],
   "source": [
    "x = soup.find(\"ol\", {\"class\": \"breadcrumb\"}).text.strip()\n",
    "x_new = x.replace('\\n', '')\n",
    "x_new"
   ]
  },
  {
   "cell_type": "code",
   "execution_count": 487,
   "metadata": {},
   "outputs": [],
   "source": [
    "cleaned_data = '-'.join(x_new.split())"
   ]
  },
  {
   "cell_type": "code",
   "execution_count": 488,
   "metadata": {},
   "outputs": [
    {
     "data": {
      "text/plain": [
       "'AnasayfaKedi-ÜrünleriKöpek-KapısıFerplast'"
      ]
     },
     "execution_count": 488,
     "metadata": {},
     "output_type": "execute_result"
    }
   ],
   "source": [
    "cleaned_data"
   ]
  },
  {
   "cell_type": "code",
   "execution_count": 481,
   "metadata": {},
   "outputs": [
    {
     "ename": "TypeError",
     "evalue": "'NoneType' object is not subscriptable",
     "output_type": "error",
     "traceback": [
      "\u001b[0;31m---------------------------------------------------------------------------\u001b[0m",
      "\u001b[0;31mTypeError\u001b[0m                                 Traceback (most recent call last)",
      "Cell \u001b[0;32mIn[481], line 3\u001b[0m\n\u001b[1;32m      1\u001b[0m product_category \u001b[39m=\u001b[39m soup\u001b[39m.\u001b[39mfind(\u001b[39m\"\u001b[39m\u001b[39mol\u001b[39m\u001b[39m\"\u001b[39m, {\u001b[39m\"\u001b[39m\u001b[39mclass\u001b[39m\u001b[39m\"\u001b[39m: \u001b[39m\"\u001b[39m\u001b[39mbreadcrumb\u001b[39m\u001b[39m\"\u001b[39m})\u001b[39m.\u001b[39mtext\u001b[39m.\u001b[39mstrip()\n\u001b[1;32m      2\u001b[0m \u001b[39mif\u001b[39;00m product_category:\n\u001b[0;32m----> 3\u001b[0m     category\u001b[39m.\u001b[39;49mappend(product_category)[\u001b[39m2\u001b[39;49m]\n\u001b[1;32m      4\u001b[0m \u001b[39melse\u001b[39;00m:\n\u001b[1;32m      5\u001b[0m     category\u001b[39m.\u001b[39mappend(\u001b[39mNone\u001b[39;00m)\n",
      "\u001b[0;31mTypeError\u001b[0m: 'NoneType' object is not subscriptable"
     ]
    }
   ],
   "source": [
    "product_category = soup.find(\"ol\", {\"class\": \"breadcrumb\"}).text.strip()\n",
    "if product_category:\n",
    "    category.append(product_category)\n",
    "else:\n",
    "    category.append(None)"
   ]
  },
  {
   "cell_type": "code",
   "execution_count": 479,
   "metadata": {},
   "outputs": [
    {
     "data": {
      "text/plain": [
       "['Anasayfa\\n\\n\\n\\n\\n\\nKedi Ürünleri\\n\\n\\n\\n\\n\\nKöpek Kapısı\\n\\n\\n\\n\\n\\nFerplast',\n",
       " '\\n\\n\\nAnasayfa\\n\\n\\n\\n\\n\\nKedi Ürünleri\\n\\n\\n\\n\\n\\nKöpek Kapısı\\n\\n\\n\\n\\n\\nFerplast\\n\\n\\n\\n']"
      ]
     },
     "execution_count": 479,
     "metadata": {},
     "output_type": "execute_result"
    }
   ],
   "source": [
    "category"
   ]
  },
  {
   "cell_type": "code",
   "execution_count": 447,
   "metadata": {},
   "outputs": [],
   "source": [
    "soup = bts(driver.page_source, \"html.parser\")"
   ]
  },
  {
   "cell_type": "code",
   "execution_count": 493,
   "metadata": {},
   "outputs": [
    {
     "ename": "ElementClickInterceptedException",
     "evalue": "Message: element click intercepted: Element <a href=\"https://www.petlebi.com/kopek-urunleri/trixie-2-yonlu-kilitlemeli-kopek-kapisi-beyaz-m-xl.html\" title=\"...\">Trixie 2 Yönlü Kilitlemeli Köpek Kapısı (Beyaz) [M-XL]</a> is not clickable at point (500, 651). Other element would receive the click: <div class=\"alert text-center cookiealert show\" role=\"alert\">...</div>\n  (Session info: chrome=113.0.5672.92)\n",
     "output_type": "error",
     "traceback": [
      "\u001b[0;31m---------------------------------------------------------------------------\u001b[0m",
      "\u001b[0;31mElementClickInterceptedException\u001b[0m          Traceback (most recent call last)",
      "Cell \u001b[0;32mIn[493], line 5\u001b[0m\n\u001b[1;32m      3\u001b[0m title \u001b[39m=\u001b[39m title\u001b[39m.\u001b[39mtext\u001b[39m.\u001b[39mstrip()\n\u001b[1;32m      4\u001b[0m link \u001b[39m=\u001b[39m driver\u001b[39m.\u001b[39mfind_element(By\u001b[39m.\u001b[39mPARTIAL_LINK_TEXT, title)\n\u001b[0;32m----> 5\u001b[0m link\u001b[39m.\u001b[39;49mclick()\n\u001b[1;32m      7\u001b[0m soup \u001b[39m=\u001b[39m bts(driver\u001b[39m.\u001b[39mpage_source, \u001b[39m\"\u001b[39m\u001b[39mhtml.parser\u001b[39m\u001b[39m\"\u001b[39m)\n\u001b[1;32m      9\u001b[0m \u001b[39m#link'in listeye eklendiği yer\u001b[39;00m\n\u001b[1;32m     10\u001b[0m \u001b[39m#Sorun var\u001b[39;00m\n",
      "File \u001b[0;32m~/miniconda3/envs/venv1/lib/python3.11/site-packages/selenium/webdriver/remote/webelement.py:80\u001b[0m, in \u001b[0;36mWebElement.click\u001b[0;34m(self)\u001b[0m\n\u001b[1;32m     78\u001b[0m \u001b[39mdef\u001b[39;00m \u001b[39mclick\u001b[39m(\u001b[39mself\u001b[39m):\n\u001b[1;32m     79\u001b[0m \u001b[39m    \u001b[39m\u001b[39m\"\"\"Clicks the element.\"\"\"\u001b[39;00m\n\u001b[0;32m---> 80\u001b[0m     \u001b[39mself\u001b[39;49m\u001b[39m.\u001b[39;49m_execute(Command\u001b[39m.\u001b[39;49mCLICK_ELEMENT)\n",
      "File \u001b[0;32m~/miniconda3/envs/venv1/lib/python3.11/site-packages/selenium/webdriver/remote/webelement.py:633\u001b[0m, in \u001b[0;36mWebElement._execute\u001b[0;34m(self, command, params)\u001b[0m\n\u001b[1;32m    631\u001b[0m     params \u001b[39m=\u001b[39m {}\n\u001b[1;32m    632\u001b[0m params[\u001b[39m'\u001b[39m\u001b[39mid\u001b[39m\u001b[39m'\u001b[39m] \u001b[39m=\u001b[39m \u001b[39mself\u001b[39m\u001b[39m.\u001b[39m_id\n\u001b[0;32m--> 633\u001b[0m \u001b[39mreturn\u001b[39;00m \u001b[39mself\u001b[39;49m\u001b[39m.\u001b[39;49m_parent\u001b[39m.\u001b[39;49mexecute(command, params)\n",
      "File \u001b[0;32m~/miniconda3/envs/venv1/lib/python3.11/site-packages/selenium/webdriver/remote/webdriver.py:321\u001b[0m, in \u001b[0;36mWebDriver.execute\u001b[0;34m(self, driver_command, params)\u001b[0m\n\u001b[1;32m    319\u001b[0m response \u001b[39m=\u001b[39m \u001b[39mself\u001b[39m\u001b[39m.\u001b[39mcommand_executor\u001b[39m.\u001b[39mexecute(driver_command, params)\n\u001b[1;32m    320\u001b[0m \u001b[39mif\u001b[39;00m response:\n\u001b[0;32m--> 321\u001b[0m     \u001b[39mself\u001b[39;49m\u001b[39m.\u001b[39;49merror_handler\u001b[39m.\u001b[39;49mcheck_response(response)\n\u001b[1;32m    322\u001b[0m     response[\u001b[39m'\u001b[39m\u001b[39mvalue\u001b[39m\u001b[39m'\u001b[39m] \u001b[39m=\u001b[39m \u001b[39mself\u001b[39m\u001b[39m.\u001b[39m_unwrap_value(\n\u001b[1;32m    323\u001b[0m         response\u001b[39m.\u001b[39mget(\u001b[39m'\u001b[39m\u001b[39mvalue\u001b[39m\u001b[39m'\u001b[39m, \u001b[39mNone\u001b[39;00m))\n\u001b[1;32m    324\u001b[0m     \u001b[39mreturn\u001b[39;00m response\n",
      "File \u001b[0;32m~/miniconda3/envs/venv1/lib/python3.11/site-packages/selenium/webdriver/remote/errorhandler.py:242\u001b[0m, in \u001b[0;36mErrorHandler.check_response\u001b[0;34m(self, response)\u001b[0m\n\u001b[1;32m    240\u001b[0m         alert_text \u001b[39m=\u001b[39m value[\u001b[39m'\u001b[39m\u001b[39malert\u001b[39m\u001b[39m'\u001b[39m]\u001b[39m.\u001b[39mget(\u001b[39m'\u001b[39m\u001b[39mtext\u001b[39m\u001b[39m'\u001b[39m)\n\u001b[1;32m    241\u001b[0m     \u001b[39mraise\u001b[39;00m exception_class(message, screen, stacktrace, alert_text)\n\u001b[0;32m--> 242\u001b[0m \u001b[39mraise\u001b[39;00m exception_class(message, screen, stacktrace)\n",
      "\u001b[0;31mElementClickInterceptedException\u001b[0m: Message: element click intercepted: Element <a href=\"https://www.petlebi.com/kopek-urunleri/trixie-2-yonlu-kilitlemeli-kopek-kapisi-beyaz-m-xl.html\" title=\"...\">Trixie 2 Yönlü Kilitlemeli Köpek Kapısı (Beyaz) [M-XL]</a> is not clickable at point (500, 651). Other element would receive the click: <div class=\"alert text-center cookiealert show\" role=\"alert\">...</div>\n  (Session info: chrome=113.0.5672.92)\n"
     ]
    }
   ],
   "source": [
    "soup = bts(driver.page_source, \"html.parser\")\n",
    "for title in soup.find(\"div\", {\"id\": \"products\"}).findAll(\"h3\", {\"class\":\"commerce-title mt-2 mb-0\"}):\n",
    "    title = title.text.strip()\n",
    "    link = driver.find_element(By.PARTIAL_LINK_TEXT, title)\n",
    "    link.click()\n",
    "    \n",
    "    soup = bts(driver.page_source, \"html.parser\")\n",
    "    \n",
    "    #link'in listeye eklendiği yer\n",
    "    #Sorun var\n",
    "    link_element = soup.find(\"link\", {\"href\"})\n",
    "    if link_element:\n",
    "        x = link_element[\"href\"]\n",
    "    product_URL.append(x)\n",
    "    \n",
    "    #ürün isminin listeye eklendiği yer\n",
    "    product_title = soup.find(\"h1\", {\"class\":\"product-h1\"})\n",
    "    if product_title:\n",
    "        product_name.append(product_title.text.strip())\n",
    "    else:\n",
    "        product_name.append(None)\n",
    "\n",
    "    #ürün barkod listeye eklendiği yer\n",
    "    product_barcode_number = soup.find(\"div\", {\"id\": \"hakkinda\"}).findAll(\"div\", {\"class\":\"col-10 pd-d-v\"})[2].text\n",
    "    if product_barcode_number:\n",
    "        product_barcode.append(product_barcode_number)\n",
    "    else:\n",
    "        product_barcode.append(None)\n",
    "\n",
    "    #fiyat'ın listeye eklendiği yer\n",
    "    new_price = soup.find(\"p\", {\"class\":\"new-price\"}).text.strip().split()[0]\n",
    "    if new_price:\n",
    "        product_price.append(new_price.strip())\n",
    "    else:\n",
    "        product_price.append(None)\n",
    "    \n",
    "    #stok bilgisi bulunamamıştır.\n",
    "    #!!!!!!!!!görsel eklenecektir.\n",
    "\n",
    "    #ürün açıklamasının listeye eklendiği yer\n",
    "    product_description = soup.find(\"span\", {\"id\": \"productDescription\"}).text.strip()\n",
    "    if product_description:\n",
    "        description.append(product_description)\n",
    "    else:\n",
    "        description.append(None)\n",
    "    \n",
    "    #sku eklenecektir.\n",
    "\n",
    "    #ürünün kategorisinin eklenediği yer\n",
    "    #ürünün is'sinin eklenediği yer\n",
    "    #ürünün markasının eklenediği yer\n",
    "\n",
    "\n",
    "    driver.back()\n",
    "    soup = bts(driver.page_source, \"html.parser\")"
   ]
  },
  {
   "cell_type": "code",
   "execution_count": 494,
   "metadata": {},
   "outputs": [
    {
     "data": {
      "text/plain": [
       "['Ferplast Swing 3 Otomatik Kedi ve Köpek Kapısı 22x5x25cm (Kahverengi)']"
      ]
     },
     "execution_count": 494,
     "metadata": {},
     "output_type": "execute_result"
    }
   ],
   "source": [
    "product_name"
   ]
  },
  {
   "cell_type": "code",
   "execution_count": 419,
   "metadata": {},
   "outputs": [
    {
     "data": {
      "text/plain": [
       "['https://www.petlebi.com/kopek-kapisi',\n",
       " 'https://www.petlebi.com/kopek-kapisi',\n",
       " 'https://www.petlebi.com/kopek-kapisi']"
      ]
     },
     "execution_count": 419,
     "metadata": {},
     "output_type": "execute_result"
    }
   ],
   "source": [
    "product_URL"
   ]
  },
  {
   "cell_type": "code",
   "execution_count": 429,
   "metadata": {},
   "outputs": [
    {
     "data": {
      "text/plain": [
       "['Ferplast Swing 3 Otomatik Kedi ve Köpek Kapısı 22x5x25cm (Kahverengi)',\n",
       " 'Trixie 2 Yönlü Kilitlemeli Köpek Kapısı (Beyaz) [M-XL]',\n",
       " 'Trixie Transparan İki Yollu Köpek Kapısı (Beyaz) [S/M]']"
      ]
     },
     "execution_count": 429,
     "metadata": {},
     "output_type": "execute_result"
    }
   ],
   "source": [
    "product_name"
   ]
  },
  {
   "cell_type": "code",
   "execution_count": 430,
   "metadata": {},
   "outputs": [
    {
     "data": {
      "text/plain": [
       "['502,71', '1.999', '1.699']"
      ]
     },
     "execution_count": 430,
     "metadata": {},
     "output_type": "execute_result"
    }
   ],
   "source": [
    "product_price"
   ]
  },
  {
   "cell_type": "code",
   "execution_count": 431,
   "metadata": {},
   "outputs": [
    {
     "data": {
      "text/plain": [
       "[None]"
      ]
     },
     "execution_count": 431,
     "metadata": {},
     "output_type": "execute_result"
    }
   ],
   "source": [
    "product_barcode"
   ]
  },
  {
   "cell_type": "code",
   "execution_count": 223,
   "metadata": {},
   "outputs": [],
   "source": [
    "'''\n",
    "replacement_chars = \"()\"  # Değiştirilecek karakterler\n",
    "\n",
    "for char in replacement_chars:\n",
    "    text = text.replace(char, \" \")\n",
    "#lat page number/last page number can be find buttom of the page\n",
    "def lastPageNumber(url):\n",
    "    soup = getAndParseURL(url)\n",
    "    last_page_number = soup.find(\"p\", {'class':\"search-result-counter\"}).text.split()[0]\n",
    "    for char in replacement_chars:\n",
    "        last_page_number = last_page_number.replace(char, \" \")\n",
    "    last_page_number = int(last_page_number)/30\n",
    "    return last_page_number\n",
    "\n",
    "'''"
   ]
  },
  {
   "cell_type": "code",
   "execution_count": 175,
   "metadata": {},
   "outputs": [],
   "source": [
    "link_list = []\n",
    "def createLinkList(url):\n",
    "    for link in range (1,int(lastPageNumber(url))+1):\n",
    "        link_list.append(url+ \"?page=\" +str(link))"
   ]
  },
  {
   "cell_type": "code",
   "execution_count": null,
   "metadata": {},
   "outputs": [],
   "source": [
    "product_URL = []\n",
    "product_name = []\n",
    "product_barcode = []\n",
    "product_price = []\n",
    "product_stock = []\n",
    "product_images = []\n",
    "description = []\n",
    "sku = []\n",
    "category = []\n",
    "product_ID = []\n",
    "brand = []\n",
    "\n",
    "\n",
    "for products in :\n",
    "    soups = getAndParseURL(products)\n",
    "\n",
    "    for title in soups.find_all(\"div\", {'class':\"zlc-title\"}):\n",
    "        TITLE.append(title.text.split(\"\\n\")[0])\n",
    "\n",
    "    for price in soups.find_all(\"div\",{\"class\":\"feature-item feature-price\"}):\n",
    "        PRICE.append(int(price.text.split(\" \")[0].replace(\".\",\"\")))\n",
    "\n",
    "    for location in soups.find_all(\"div\",{\"class\":\"zlc-location\"}):\n",
    "        LOCATION.append(location.text.split(\"\\n\")[1])\n",
    "\n",
    "    for area in soups.find_all(\"div\",{\"class\":\"zlc-tags\"}):\n",
    "        AREA.append(area.text.split(\"\\n\")[1])\n",
    "\n",
    "    for room in soups.find_all(\"div\",{\"class\":\"zlc-tags\"}):\n",
    "        ROOM.append(room.text.split(\"\\n\")[0])"
   ]
  },
  {
   "cell_type": "code",
   "execution_count": 62,
   "metadata": {},
   "outputs": [],
   "source": [
    "search_box = driver.find_element(By.XPATH, '//*[@id=\"rvts-search\"]')\n",
    "\n",
    "search_box.clear()\n",
    "# Yeni arama olusturma\n",
    "search_box.send_keys(\"kedi maması\")\n",
    "# Aramavi gerceklestirme\n",
    "search_box.send_keys(Keys.RETURN)"
   ]
  },
  {
   "attachments": {},
   "cell_type": "markdown",
   "metadata": {},
   "source": [
    "deneme"
   ]
  },
  {
   "cell_type": "code",
   "execution_count": 489,
   "metadata": {},
   "outputs": [
    {
     "ename": "WebDriverException",
     "evalue": "Message: disconnected: not connected to DevTools\n  (failed to check if window was closed: disconnected: not connected to DevTools)\n  (Session info: chrome=113.0.5672.92)\n",
     "output_type": "error",
     "traceback": [
      "\u001b[0;31m---------------------------------------------------------------------------\u001b[0m",
      "\u001b[0;31mWebDriverException\u001b[0m                        Traceback (most recent call last)",
      "Cell \u001b[0;32mIn[489], line 1\u001b[0m\n\u001b[0;32m----> 1\u001b[0m driver\u001b[39m.\u001b[39;49mclose()\n\u001b[1;32m      2\u001b[0m driver\u001b[39m.\u001b[39mquit()\n",
      "File \u001b[0;32m~/miniconda3/envs/venv1/lib/python3.11/site-packages/selenium/webdriver/remote/webdriver.py:688\u001b[0m, in \u001b[0;36mWebDriver.close\u001b[0;34m(self)\u001b[0m\n\u001b[1;32m    681\u001b[0m \u001b[39mdef\u001b[39;00m \u001b[39mclose\u001b[39m(\u001b[39mself\u001b[39m):\n\u001b[1;32m    682\u001b[0m \u001b[39m    \u001b[39m\u001b[39m\"\"\"\u001b[39;00m\n\u001b[1;32m    683\u001b[0m \u001b[39m    Closes the current window.\u001b[39;00m\n\u001b[1;32m    684\u001b[0m \n\u001b[1;32m    685\u001b[0m \u001b[39m    :Usage:\u001b[39;00m\n\u001b[1;32m    686\u001b[0m \u001b[39m        driver.close()\u001b[39;00m\n\u001b[1;32m    687\u001b[0m \u001b[39m    \"\"\"\u001b[39;00m\n\u001b[0;32m--> 688\u001b[0m     \u001b[39mself\u001b[39;49m\u001b[39m.\u001b[39;49mexecute(Command\u001b[39m.\u001b[39;49mCLOSE)\n",
      "File \u001b[0;32m~/miniconda3/envs/venv1/lib/python3.11/site-packages/selenium/webdriver/remote/webdriver.py:321\u001b[0m, in \u001b[0;36mWebDriver.execute\u001b[0;34m(self, driver_command, params)\u001b[0m\n\u001b[1;32m    319\u001b[0m response \u001b[39m=\u001b[39m \u001b[39mself\u001b[39m\u001b[39m.\u001b[39mcommand_executor\u001b[39m.\u001b[39mexecute(driver_command, params)\n\u001b[1;32m    320\u001b[0m \u001b[39mif\u001b[39;00m response:\n\u001b[0;32m--> 321\u001b[0m     \u001b[39mself\u001b[39;49m\u001b[39m.\u001b[39;49merror_handler\u001b[39m.\u001b[39;49mcheck_response(response)\n\u001b[1;32m    322\u001b[0m     response[\u001b[39m'\u001b[39m\u001b[39mvalue\u001b[39m\u001b[39m'\u001b[39m] \u001b[39m=\u001b[39m \u001b[39mself\u001b[39m\u001b[39m.\u001b[39m_unwrap_value(\n\u001b[1;32m    323\u001b[0m         response\u001b[39m.\u001b[39mget(\u001b[39m'\u001b[39m\u001b[39mvalue\u001b[39m\u001b[39m'\u001b[39m, \u001b[39mNone\u001b[39;00m))\n\u001b[1;32m    324\u001b[0m     \u001b[39mreturn\u001b[39;00m response\n",
      "File \u001b[0;32m~/miniconda3/envs/venv1/lib/python3.11/site-packages/selenium/webdriver/remote/errorhandler.py:242\u001b[0m, in \u001b[0;36mErrorHandler.check_response\u001b[0;34m(self, response)\u001b[0m\n\u001b[1;32m    240\u001b[0m         alert_text \u001b[39m=\u001b[39m value[\u001b[39m'\u001b[39m\u001b[39malert\u001b[39m\u001b[39m'\u001b[39m]\u001b[39m.\u001b[39mget(\u001b[39m'\u001b[39m\u001b[39mtext\u001b[39m\u001b[39m'\u001b[39m)\n\u001b[1;32m    241\u001b[0m     \u001b[39mraise\u001b[39;00m exception_class(message, screen, stacktrace, alert_text)\n\u001b[0;32m--> 242\u001b[0m \u001b[39mraise\u001b[39;00m exception_class(message, screen, stacktrace)\n",
      "\u001b[0;31mWebDriverException\u001b[0m: Message: disconnected: not connected to DevTools\n  (failed to check if window was closed: disconnected: not connected to DevTools)\n  (Session info: chrome=113.0.5672.92)\n"
     ]
    }
   ],
   "source": [
    "driver.close()\n",
    "driver.quit()"
   ]
  },
  {
   "cell_type": "code",
   "execution_count": null,
   "metadata": {},
   "outputs": [],
   "source": []
  }
 ],
 "metadata": {
  "kernelspec": {
   "display_name": "venv1",
   "language": "python",
   "name": "python3"
  },
  "language_info": {
   "codemirror_mode": {
    "name": "ipython",
    "version": 3
   },
   "file_extension": ".py",
   "mimetype": "text/x-python",
   "name": "python",
   "nbconvert_exporter": "python",
   "pygments_lexer": "ipython3",
   "version": "3.11.3"
  },
  "orig_nbformat": 4
 },
 "nbformat": 4,
 "nbformat_minor": 2
}
