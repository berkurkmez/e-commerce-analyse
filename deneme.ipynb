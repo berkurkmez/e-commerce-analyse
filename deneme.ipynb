{
 "cells": [
  {
   "cell_type": "code",
   "execution_count": 284,
   "metadata": {},
   "outputs": [],
   "source": [
    "from bs4 import BeautifulSoup as bts\n",
    "import requests\n",
    "import time,os\n",
    "from selenium import webdriver\n",
    "from selenium.webdriver.common.keys import Keys\n",
    "##import warnings warnings.filterwarnings (action='ignore')\n",
    "from selenium.webdriver.common.by import By"
   ]
  },
  {
   "cell_type": "code",
   "execution_count": 285,
   "metadata": {},
   "outputs": [],
   "source": [
    "chromedriver = \"/Users/berk/Documents/chromedriver/chromedriver\"\n",
    "os.environ[\"webdriver_chrome.driver\"] = chromedriver"
   ]
  },
  {
   "cell_type": "code",
   "execution_count": 286,
   "metadata": {},
   "outputs": [],
   "source": [
    "#bu kısım kodla alakası yok deneme\n",
    "#function for url html codes\n",
    "def getAndParseURL(url):\n",
    "    result = requests.get(url,headers={\"User-Agent\": \"Mozilla/5.0\"})\n",
    "    soup = bts(result.text, \"html.parser\")\n",
    "    return soup"
   ]
  },
  {
   "cell_type": "code",
   "execution_count": 293,
   "metadata": {},
   "outputs": [],
   "source": [
    "#search = 'https://www.petlebi.com/kopek-mamasi'\n",
    "search = 'https://www.petlebi.com/kopek-kapisi'\n",
    "#search = 'https://www.petlebi.com/kedi-urunleri/ferplast-swing-3-otomatik-kedi-ve-kopek-kapisi-22x5x25cm-kahverengi.html'\n",
    "soup = getAndParseURL(search)"
   ]
  },
  {
   "cell_type": "code",
   "execution_count": 294,
   "metadata": {},
   "outputs": [],
   "source": [
    "driver = webdriver.Chrome(chromedriver)\n",
    "driver.get(search)"
   ]
  },
  {
   "cell_type": "code",
   "execution_count": 305,
   "metadata": {},
   "outputs": [],
   "source": [
    "soup = bts(driver.page_source, \"html.parser\")"
   ]
  },
  {
   "cell_type": "code",
   "execution_count": 417,
   "metadata": {},
   "outputs": [],
   "source": [
    "product_URL = []\n",
    "product_name = []\n",
    "product_barcode = []\n",
    "product_price = []\n",
    "product_stock = []\n",
    "product_images = []\n",
    "description = []\n",
    "sku = []\n",
    "category = []\n",
    "product_ID = []\n",
    "brand = []"
   ]
  },
  {
   "cell_type": "code",
   "execution_count": 428,
   "metadata": {},
   "outputs": [
    {
     "data": {
      "text/plain": [
       "['Ferplast']"
      ]
     },
     "execution_count": 428,
     "metadata": {},
     "output_type": "execute_result"
    }
   ],
   "source": [
    "soup.find(\"div\", {\"class\":\"col-10 pd-d-v\"}).text.split()"
   ]
  },
  {
   "cell_type": "code",
   "execution_count": null,
   "metadata": {},
   "outputs": [],
   "source": [
    "<div class=\"col-10 pd-d-v\">4011905038797</div>"
   ]
  },
  {
   "cell_type": "code",
   "execution_count": 425,
   "metadata": {},
   "outputs": [
    {
     "ename": "TypeError",
     "evalue": "'NoneType' object is not callable",
     "output_type": "error",
     "traceback": [
      "\u001b[0;31m---------------------------------------------------------------------------\u001b[0m",
      "\u001b[0;31mTypeError\u001b[0m                                 Traceback (most recent call last)",
      "Cell \u001b[0;32mIn[425], line 3\u001b[0m\n\u001b[1;32m      1\u001b[0m product_barcode_number \u001b[39m=\u001b[39m soup\u001b[39m.\u001b[39mfind(\u001b[39m\"\u001b[39m\u001b[39mdiv\u001b[39m\u001b[39m\"\u001b[39m, {\u001b[39m\"\u001b[39m\u001b[39mclass\u001b[39m\u001b[39m\"\u001b[39m:\u001b[39m\"\u001b[39m\u001b[39mcol-10 pd-d-v\u001b[39m\u001b[39m\"\u001b[39m})\n\u001b[1;32m      2\u001b[0m \u001b[39mif\u001b[39;00m product_barcode_number:\n\u001b[0;32m----> 3\u001b[0m     product_barcode\u001b[39m.\u001b[39mappend(product_barcode_number\u001b[39m.\u001b[39;49mstrip())\n\u001b[1;32m      4\u001b[0m \u001b[39melse\u001b[39;00m:\n\u001b[1;32m      5\u001b[0m     product_barcode\u001b[39m.\u001b[39mappend(\u001b[39mNone\u001b[39;00m)\n",
      "\u001b[0;31mTypeError\u001b[0m: 'NoneType' object is not callable"
     ]
    }
   ],
   "source": [
    "product_barcode_number = soup.find(\"div\", {\"class\":\"col-10 pd-d-v\"})\n",
    "if product_barcode_number:\n",
    "    product_barcode.append(product_barcode_number.strip())\n",
    "else:\n",
    "    product_barcode.append(None)\n",
    "product_barcode"
   ]
  },
  {
   "cell_type": "code",
   "execution_count": 424,
   "metadata": {},
   "outputs": [],
   "source": [
    "soup = bts(driver.page_source, \"html.parser\")"
   ]
  },
  {
   "cell_type": "code",
   "execution_count": 418,
   "metadata": {},
   "outputs": [],
   "source": [
    "soup = bts(driver.page_source, \"html.parser\")\n",
    "for title in soup.find(\"div\", {\"id\": \"products\"}).findAll(\"h3\", {\"class\":\"commerce-title mt-2 mb-0\"}):\n",
    "    title = title.text.strip()\n",
    "    link = driver.find_element(By.PARTIAL_LINK_TEXT, title)\n",
    "    link.click()\n",
    "    \n",
    "    soup = bts(driver.page_source, \"html.parser\")\n",
    "    \n",
    "    #link'in listeye eklendiği yer\n",
    "    #Sorun var\n",
    "    link_element = soup.find(\"link\", {\"href\"})\n",
    "    if link_element:\n",
    "        x = link_element[\"href\"]\n",
    "    product_URL.append(x)\n",
    "    \n",
    "    #fiyat'ın listeye eklendiği yer\n",
    "    new_price = soup.find(\"p\", {\"class\":\"new-price\"}).text.strip().split()[0]\n",
    "    if new_price:\n",
    "        product_price.append(new_price.strip())\n",
    "    else:\n",
    "        product_price.append(None)\n",
    "    \n",
    "    #ürün isminin listeye eklendiği yer\n",
    "    product_title = soup.find(\"h1\", {\"class\":\"product-h1\"}).text\n",
    "    if product_title:\n",
    "        product_name.append(product_title.strip())\n",
    "    else:\n",
    "        product_name.append(None)\n",
    "\n",
    "    #ürün barkod listeye eklendiği yer\n",
    "    product_barcode_number = soup.find(\"div\", {\"class\":\"col-10 pd-d-v\"}).text\n",
    "    if product_barcode_number:\n",
    "        product_barcode.append(product_barcode_number.strip())\n",
    "    else:\n",
    "        product_barcode.append(None)\n",
    "    \n",
    "    driver.back()\n",
    "    soup = bts(driver.page_source, \"html.parser\")"
   ]
  },
  {
   "cell_type": "code",
   "execution_count": null,
   "metadata": {},
   "outputs": [],
   "source": [
    "<div class=\"col-10 pd-d-v\">4011905038797</div>"
   ]
  },
  {
   "cell_type": "code",
   "execution_count": 419,
   "metadata": {},
   "outputs": [
    {
     "data": {
      "text/plain": [
       "['https://www.petlebi.com/kopek-kapisi',\n",
       " 'https://www.petlebi.com/kopek-kapisi',\n",
       " 'https://www.petlebi.com/kopek-kapisi']"
      ]
     },
     "execution_count": 419,
     "metadata": {},
     "output_type": "execute_result"
    }
   ],
   "source": [
    "product_URL"
   ]
  },
  {
   "cell_type": "code",
   "execution_count": 420,
   "metadata": {},
   "outputs": [
    {
     "data": {
      "text/plain": [
       "['Ferplast Swing 3 Otomatik Kedi ve Köpek Kapısı 22x5x25cm (Kahverengi)',\n",
       " 'Trixie 2 Yönlü Kilitlemeli Köpek Kapısı (Beyaz) [M-XL]',\n",
       " 'Trixie Transparan İki Yollu Köpek Kapısı (Beyaz) [S/M]']"
      ]
     },
     "execution_count": 420,
     "metadata": {},
     "output_type": "execute_result"
    }
   ],
   "source": [
    "product_name"
   ]
  },
  {
   "cell_type": "code",
   "execution_count": 421,
   "metadata": {},
   "outputs": [
    {
     "data": {
      "text/plain": [
       "['502,71', '1.999', '1.699']"
      ]
     },
     "execution_count": 421,
     "metadata": {},
     "output_type": "execute_result"
    }
   ],
   "source": [
    "product_price"
   ]
  },
  {
   "cell_type": "code",
   "execution_count": 223,
   "metadata": {},
   "outputs": [],
   "source": [
    "'''\n",
    "replacement_chars = \"()\"  # Değiştirilecek karakterler\n",
    "\n",
    "for char in replacement_chars:\n",
    "    text = text.replace(char, \" \")\n",
    "#lat page number/last page number can be find buttom of the page\n",
    "def lastPageNumber(url):\n",
    "    soup = getAndParseURL(url)\n",
    "    last_page_number = soup.find(\"p\", {'class':\"search-result-counter\"}).text.split()[0]\n",
    "    for char in replacement_chars:\n",
    "        last_page_number = last_page_number.replace(char, \" \")\n",
    "    last_page_number = int(last_page_number)/30\n",
    "    return last_page_number\n",
    "\n",
    "'''"
   ]
  },
  {
   "cell_type": "code",
   "execution_count": 175,
   "metadata": {},
   "outputs": [],
   "source": [
    "link_list = []\n",
    "def createLinkList(url):\n",
    "    for link in range (1,int(lastPageNumber(url))+1):\n",
    "        link_list.append(url+ \"?page=\" +str(link))"
   ]
  },
  {
   "cell_type": "code",
   "execution_count": null,
   "metadata": {},
   "outputs": [],
   "source": [
    "product_URL = []\n",
    "product_name = []\n",
    "product_barcode = []\n",
    "product_price = []\n",
    "product_stock = []\n",
    "product_images = []\n",
    "description = []\n",
    "sku = []\n",
    "category = []\n",
    "product_ID = []\n",
    "brand = []\n",
    "\n",
    "\n",
    "for products in :\n",
    "    soups = getAndParseURL(products)\n",
    "\n",
    "    for title in soups.find_all(\"div\", {'class':\"zlc-title\"}):\n",
    "        TITLE.append(title.text.split(\"\\n\")[0])\n",
    "\n",
    "    for price in soups.find_all(\"div\",{\"class\":\"feature-item feature-price\"}):\n",
    "        PRICE.append(int(price.text.split(\" \")[0].replace(\".\",\"\")))\n",
    "\n",
    "    for location in soups.find_all(\"div\",{\"class\":\"zlc-location\"}):\n",
    "        LOCATION.append(location.text.split(\"\\n\")[1])\n",
    "\n",
    "    for area in soups.find_all(\"div\",{\"class\":\"zlc-tags\"}):\n",
    "        AREA.append(area.text.split(\"\\n\")[1])\n",
    "\n",
    "    for room in soups.find_all(\"div\",{\"class\":\"zlc-tags\"}):\n",
    "        ROOM.append(room.text.split(\"\\n\")[0])"
   ]
  },
  {
   "cell_type": "code",
   "execution_count": 62,
   "metadata": {},
   "outputs": [],
   "source": [
    "search_box = driver.find_element(By.XPATH, '//*[@id=\"rvts-search\"]')\n",
    "\n",
    "search_box.clear()\n",
    "# Yeni arama olusturma\n",
    "search_box.send_keys(\"kedi maması\")\n",
    "# Aramavi gerceklestirme\n",
    "search_box.send_keys(Keys.RETURN)"
   ]
  },
  {
   "attachments": {},
   "cell_type": "markdown",
   "metadata": {},
   "source": [
    "deneme"
   ]
  },
  {
   "cell_type": "code",
   "execution_count": 283,
   "metadata": {},
   "outputs": [],
   "source": [
    "driver.close()\n",
    "driver.quit()"
   ]
  },
  {
   "cell_type": "code",
   "execution_count": null,
   "metadata": {},
   "outputs": [],
   "source": []
  }
 ],
 "metadata": {
  "kernelspec": {
   "display_name": "venv1",
   "language": "python",
   "name": "python3"
  },
  "language_info": {
   "codemirror_mode": {
    "name": "ipython",
    "version": 3
   },
   "file_extension": ".py",
   "mimetype": "text/x-python",
   "name": "python",
   "nbconvert_exporter": "python",
   "pygments_lexer": "ipython3",
   "version": "3.11.3"
  },
  "orig_nbformat": 4
 },
 "nbformat": 4,
 "nbformat_minor": 2
}
